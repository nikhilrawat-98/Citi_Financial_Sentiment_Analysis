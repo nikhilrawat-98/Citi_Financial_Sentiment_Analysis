{
 "cells": [
  {
   "cell_type": "markdown",
   "metadata": {},
   "source": [
    "# Real-Time News Retrieval Using NewsAPI.org"
   ]
  },
  {
   "cell_type": "markdown",
   "metadata": {},
   "source": [
    "This Python script demonstrates how to retrieve recent news articles related to Nike using the NewsAPI.org service. The script is designed to fetch articles from the last 24 hours, sort them by the time of publication, and display them in a structured format."
   ]
  },
  {
   "cell_type": "markdown",
   "metadata": {},
   "source": [
    "NewsAPI.org is an online service that provides access to news articles from a wide range of sources across the web. It is a RESTful API that allows developers to programmatically retrieve articles from thousands of news publishers, including major outlets like BBC, CNN, The New York Times, and many more. The API is commonly used for building applications that need to display or analyze news content."
   ]
  },
  {
   "cell_type": "markdown",
   "metadata": {},
   "source": [
    "Below is a step-by-step breakdown of the code:"
   ]
  },
  {
   "cell_type": "markdown",
   "metadata": {},
   "source": [
    "1) Importing Required Libraries:\n",
    "- requests: This library is used to send HTTP requests to the NewsAPI.org service.\n",
    "- pandas: A powerful data manipulation and analysis library, used here to organize and display the retrieved news data.\n",
    "- datetime and timedelta: These modules from Python's standard library help calculate dates and times, particularly for determining the last 24 hours."
   ]
  },
  {
   "cell_type": "code",
   "execution_count": null,
   "metadata": {},
   "outputs": [],
   "source": [
    "import requests\n",
    "import pandas as pd\n",
    "from datetime import datetime, timedelta\n"
   ]
  },
  {
   "cell_type": "markdown",
   "metadata": {},
   "source": [
    "2) API Key:\n",
    "The api_key variable stores your unique key from NewsAPI.org. This key is required to authenticate your requests to the API. \n",
    "\n",
    "Replace 'YOUR_NEWSAPI_ORG_API_KEY' with your actual API key."
   ]
  },
  {
   "cell_type": "code",
   "execution_count": null,
   "metadata": {},
   "outputs": [],
   "source": [
    "# Replace with your actual API key from NewsAPI.org\n",
    "api_key = 'YOUR_NEWSAPI_ORG_API_KEY'"
   ]
  },
  {
   "cell_type": "markdown",
   "metadata": {},
   "source": [
    "3) Date Calculation:\n",
    "\n",
    "The script calculates the date and time exactly 24 hours before the current time using datetime.now() and timedelta(1).\n",
    "\n",
    "strftime('%Y-%m-%dT%H:%M:%SZ') formats this datetime object into a string that NewsAPI.org can understand (YYYY-MM-DDTHH:MM:SSZ format)."
   ]
  },
  {
   "cell_type": "code",
   "execution_count": null,
   "metadata": {},
   "outputs": [],
   "source": [
    "# Calculate the date 24 hours ago for recent news\n",
    "from_date = (datetime.now() - timedelta(1)).strftime('%Y-%m-%dT%H:%M:%SZ')"
   ]
  },
  {
   "cell_type": "markdown",
   "metadata": {},
   "source": [
    "4) Setting Parameters for the API Request:\n",
    "\n",
    "- params is a dictionary that holds all the parameters needed for the API call:\n",
    "- 'q': 'Nike': The search query, looking for articles related to \"Nike\".\n",
    "- 'from': from_date': Filters the articles to only include those published in the last 24 hours.\n",
    "- 'sortBy': 'publishedAt': Sorts the articles by their publication date, starting with the most recent.\n",
    "- 'apiKey': api_key': Your unique API key for accessing the NewsAPI.org service.\n",
    "- 'language': 'en': Restricts the search to English-language articles."
   ]
  },
  {
   "cell_type": "code",
   "execution_count": null,
   "metadata": {},
   "outputs": [],
   "source": [
    "# Set request parameters for the API call\n",
    "params = {\n",
    "    'q': 'Nike',                      # Search query for 'Nike'\n",
    "    'from': from_date,                # Articles from the last 24 hours\n",
    "    'sortBy': 'publishedAt',          # Sort by latest published\n",
    "    'apiKey': api_key,                # Your API key\n",
    "    'language': 'en'                  # English language articles\n",
    "}"
   ]
  },
  {
   "cell_type": "markdown",
   "metadata": {},
   "source": [
    "5) Making the API Request:\n",
    "\n",
    "The script sends a GET request to the NewsAPI.org endpoint (https://newsapi.org/v2/everything) with the specified parameters.\n",
    "\n",
    "The response from the API is converted to a JSON object (response_json) for easier processing."
   ]
  },
  {
   "cell_type": "code",
   "execution_count": null,
   "metadata": {},
   "outputs": [],
   "source": [
    "# Making the HTTP GET request to NewsAPI.org\n",
    "api_result = requests.get('https://newsapi.org/v2/everything', params=params)\n",
    "response_json = api_result.json()"
   ]
  },
  {
   "cell_type": "markdown",
   "metadata": {},
   "source": [
    "6) Extracting Articles:\n",
    "The script tries to extract the 'articles' field from the JSON response. If no articles are found, it defaults to an empty list."
   ]
  },
  {
   "cell_type": "code",
   "execution_count": null,
   "metadata": {},
   "outputs": [],
   "source": [
    "# Extract articles if available, else set to an empty list\n",
    "results = response_json.get('articles', [])"
   ]
  },
  {
   "cell_type": "markdown",
   "metadata": {},
   "source": [
    "7) Organizing the Data:\n",
    "The script extracts the title, URL, description (snippet), and publication date for each article and stores them in a dictionary (data).\n",
    "\n",
    "For each article in the results, it retrieves:\n",
    "- 'Title': The article's title, defaulting to \"No Title\" if not available.\n",
    "- 'Link': The article's URL, defaulting to \"No Link\" if not available.\n",
    "- 'Snippet': A short description of the article, defaulting to \"No Snippet\" if not available.\n",
    "- 'Published At': The publication date, defaulting to \"No Date\" if not available."
   ]
  },
  {
   "cell_type": "code",
   "execution_count": null,
   "metadata": {},
   "outputs": [],
   "source": [
    "# Extract relevant data into a DataFrame\n",
    "data = {\n",
    "    'Title': [article.get('title', 'No Title') for article in results],\n",
    "    'Link': [article.get('url', 'No Link') for article in results],\n",
    "    'Snippet': [article.get('description', 'No Snippet') for article in results],\n",
    "    'Published At': [article.get('publishedAt', 'No Date') for article in results]\n",
    "}"
   ]
  },
  {
   "cell_type": "markdown",
   "metadata": {},
   "source": [
    "8) Creating a DataFrame and Displaying the Data:\n",
    "\n",
    "A pandas DataFrame (df) is created using the extracted data. This DataFrame organizes the information into a tabular format, making it easy to analyze.\n",
    "\n",
    "The DataFrame is then printed out, displaying the titles, links, snippets, and publication dates of the retrieved articles."
   ]
  },
  {
   "cell_type": "code",
   "execution_count": null,
   "metadata": {},
   "outputs": [],
   "source": [
    "# Create a DataFrame to display the data\n",
    "df = pd.DataFrame(data)\n",
    "print(df)"
   ]
  }
 ],
 "metadata": {
  "language_info": {
   "name": "python"
  },
  "orig_nbformat": 4
 },
 "nbformat": 4,
 "nbformat_minor": 2
}
